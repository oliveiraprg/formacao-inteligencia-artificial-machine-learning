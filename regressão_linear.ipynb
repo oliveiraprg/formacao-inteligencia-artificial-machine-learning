{
  "nbformat": 4,
  "nbformat_minor": 0,
  "metadata": {
    "colab": {
      "provenance": [],
      "authorship_tag": "ABX9TyMMEKZQalcA2IA/nAWBBPUr",
      "include_colab_link": true
    },
    "kernelspec": {
      "name": "python3",
      "display_name": "Python 3"
    },
    "language_info": {
      "name": "python"
    }
  },
  "cells": [
    {
      "cell_type": "markdown",
      "metadata": {
        "id": "view-in-github",
        "colab_type": "text"
      },
      "source": [
        "<a href=\"https://colab.research.google.com/github/oliveiraprg/formacao-inteligencia-artificial-machine-learning/blob/main/regress%C3%A3o_linear.ipynb\" target=\"_parent\"><img src=\"https://colab.research.google.com/assets/colab-badge.svg\" alt=\"Open In Colab\"/></a>"
      ]
    },
    {
      "cell_type": "code",
      "execution_count": 8,
      "metadata": {
        "id": "j5Ei9A6EVvNh"
      },
      "outputs": [],
      "source": [
        "import numpy as np\n",
        "\n",
        "class LinearRegression:\n",
        "    def __init__(self, x, y):\n",
        "        self.x = x\n",
        "        self.y = y\n",
        "        self.__correlation_coefficient = self.__correlacao()\n",
        "        self.__inclination = self.__inclinao()\n",
        "        self.__intercept = self.__interceptacao()\n",
        "\n",
        "    def __correlacao(self):\n",
        "        covariacao = np.cov(self.x, self.y, bias=True)[0][1]\n",
        "        variancia_x = np.var(self.x)\n",
        "        variancia_y = np.var(self.y)\n",
        "        return covariacao / np.sqrt(variancia_x * variancia_y)\n",
        "\n",
        "    def __inclinao(self):\n",
        "        stdx = np.std(self.x)\n",
        "        stdy = np.std(self.y)\n",
        "        return self.__correlation_coefficient * (stdy / stdx)\n",
        "\n",
        "    def __interceptacao(self):\n",
        "        return np.mean(self.y) - np.mean(self.x) * self.__inclination\n",
        "\n",
        "    def previsao(self, valor):\n",
        "        return self.__intercept + (self.__inclination * valor)\n",
        "\n",
        "\n",
        "\n"
      ]
    },
    {
      "cell_type": "code",
      "source": [
        "x = np.array([1, 2, 3, 4, 5])\n",
        "y = np.array([2, 4, 6, 8, 10])\n",
        "\n",
        "reg = LinearRegression(x, y)\n",
        "print(reg.previsao(6))"
      ],
      "metadata": {
        "colab": {
          "base_uri": "https://localhost:8080/"
        },
        "id": "KCyvIZFGY1ex",
        "outputId": "68668d00-98a7-47a0-e7bb-1961551649cf"
      },
      "execution_count": 9,
      "outputs": [
        {
          "output_type": "stream",
          "name": "stdout",
          "text": [
            "12.0\n"
          ]
        }
      ]
    }
  ]
}